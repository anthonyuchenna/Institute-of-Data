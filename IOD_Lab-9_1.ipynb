{
 "cells": [
  {
   "cell_type": "markdown",
   "metadata": {
    "colab_type": "text",
    "id": "gn3SG1yo1KdV"
   },
   "source": [
    "<div>\n",
    "<img src=https://www.institutedata.com/wp-content/uploads/2019/10/iod_h_tp_primary_c.svg width=\"300\">\n",
    "</div>"
   ]
  },
  {
   "cell_type": "markdown",
   "metadata": {
    "colab_type": "text",
    "id": "g-SD7a9X1KdY"
   },
   "source": [
    "# Lab 9.1: NN with Keras\n",
    "INSTRUCTIONS:\n",
    "- Read the guides and hints, then create the necessary analysis and code to find an answer and conclusion for the task below.\n",
    "- **NOTE**: This is a Regression problem. Consider the appropriate:\n",
    "    - Activation function\n",
    "    - Loss/Cost Function\n",
    "    - Metrics"
   ]
  },
  {
   "cell_type": "markdown",
   "metadata": {
    "colab_type": "text",
    "id": "ENgfRnvL1Kdc"
   },
   "source": [
    "### Import libraries"
   ]
  },
  {
   "cell_type": "code",
   "execution_count": 1,
   "metadata": {
    "colab": {},
    "colab_type": "code",
    "id": "Z9H465X-1Kde"
   },
   "outputs": [
    {
     "name": "stdout",
     "output_type": "stream",
     "text": [
      "Keras version:  2.4.0\n",
      "Tensorflow version:  2.3.0\n"
     ]
    }
   ],
   "source": [
    "import sys\n",
    "import tensorflow as tf\n",
    "from tensorflow import keras\n",
    "\n",
    "print(\"Keras version: \", keras.__version__)\n",
    "print(\"Tensorflow version: \", tf.__version__)"
   ]
  },
  {
   "cell_type": "code",
   "execution_count": 5,
   "metadata": {},
   "outputs": [
    {
     "name": "stdout",
     "output_type": "stream",
     "text": [
      "Collecting matplotlib\n",
      "  Downloading matplotlib-3.4.3-cp38-cp38-win_amd64.whl (7.1 MB)\n",
      "Requirement already satisfied: pyparsing>=2.2.1 in c:\\users\\nnama\\anaconda3\\envs\\deep learning\\lib\\site-packages (from matplotlib) (2.4.7)\n",
      "Requirement already satisfied: numpy>=1.16 in c:\\users\\nnama\\anaconda3\\envs\\deep learning\\lib\\site-packages (from matplotlib) (1.20.3)\n",
      "Collecting cycler>=0.10\n",
      "  Downloading cycler-0.10.0-py2.py3-none-any.whl (6.5 kB)\n",
      "Collecting pillow>=6.2.0\n",
      "  Downloading Pillow-8.3.2-cp38-cp38-win_amd64.whl (3.2 MB)\n",
      "Collecting kiwisolver>=1.0.1\n",
      "  Downloading kiwisolver-1.3.2-cp38-cp38-win_amd64.whl (52 kB)\n",
      "Requirement already satisfied: python-dateutil>=2.7 in c:\\users\\nnama\\anaconda3\\envs\\deep learning\\lib\\site-packages (from matplotlib) (2.8.2)\n",
      "Requirement already satisfied: six in c:\\users\\nnama\\anaconda3\\envs\\deep learning\\lib\\site-packages (from cycler>=0.10->matplotlib) (1.16.0)\n",
      "Installing collected packages: pillow, kiwisolver, cycler, matplotlib\n",
      "Successfully installed cycler-0.10.0 kiwisolver-1.3.2 matplotlib-3.4.3 pillow-8.3.2\n"
     ]
    }
   ],
   "source": [
    "!pip install matplotlib"
   ]
  },
  {
   "cell_type": "code",
   "execution_count": 1,
   "metadata": {},
   "outputs": [],
   "source": [
    "## Import libraries\n",
    "import numpy as np\n",
    "\n",
    "%matplotlib inline\n",
    "import matplotlib.pyplot as plt\n",
    "\n",
    "from sklearn.datasets import load_diabetes\n",
    "from sklearn.model_selection import train_test_split\n",
    "from sklearn.metrics import r2_score\n",
    "\n",
    "# import keras\n",
    "from tensorflow.keras.models import Sequential\n",
    "from tensorflow.keras.layers import Dense"
   ]
  },
  {
   "cell_type": "markdown",
   "metadata": {
    "colab_type": "text",
    "id": "5FHh910J1Kdm"
   },
   "source": [
    "### Load data\n",
    "Load the Diabetes dataset from **SciKit-Learn**."
   ]
  },
  {
   "cell_type": "code",
   "execution_count": 2,
   "metadata": {
    "colab": {},
    "colab_type": "code",
    "id": "MWu8SlQF1Kdo"
   },
   "outputs": [],
   "source": [
    "# The diabetes dataset\n",
    "data = load_diabetes()"
   ]
  },
  {
   "cell_type": "code",
   "execution_count": 3,
   "metadata": {
    "scrolled": false
   },
   "outputs": [
    {
     "name": "stdout",
     "output_type": "stream",
     "text": [
      ".. _diabetes_dataset:\n",
      "\n",
      "Diabetes dataset\n",
      "----------------\n",
      "\n",
      "Ten baseline variables, age, sex, body mass index, average blood\n",
      "pressure, and six blood serum measurements were obtained for each of n =\n",
      "442 diabetes patients, as well as the response of interest, a\n",
      "quantitative measure of disease progression one year after baseline.\n",
      "\n",
      "**Data Set Characteristics:**\n",
      "\n",
      "  :Number of Instances: 442\n",
      "\n",
      "  :Number of Attributes: First 10 columns are numeric predictive values\n",
      "\n",
      "  :Target: Column 11 is a quantitative measure of disease progression one year after baseline\n",
      "\n",
      "  :Attribute Information:\n",
      "      - age     age in years\n",
      "      - sex\n",
      "      - bmi     body mass index\n",
      "      - bp      average blood pressure\n",
      "      - s1      tc, total serum cholesterol\n",
      "      - s2      ldl, low-density lipoproteins\n",
      "      - s3      hdl, high-density lipoproteins\n",
      "      - s4      tch, total cholesterol / HDL\n",
      "      - s5      ltg, possibly log of serum triglycerides level\n",
      "      - s6      glu, blood sugar level\n",
      "\n",
      "Note: Each of these 10 feature variables have been mean centered and scaled by the standard deviation times `n_samples` (i.e. the sum of squares of each column totals 1).\n",
      "\n",
      "Source URL:\n",
      "https://www4.stat.ncsu.edu/~boos/var.select/diabetes.html\n",
      "\n",
      "For more information see:\n",
      "Bradley Efron, Trevor Hastie, Iain Johnstone and Robert Tibshirani (2004) \"Least Angle Regression,\" Annals of Statistics (with discussion), 407-499.\n",
      "(https://web.stanford.edu/~hastie/Papers/LARS/LeastAngle_2002.pdf)\n"
     ]
    }
   ],
   "source": [
    "print(data.DESCR)"
   ]
  },
  {
   "cell_type": "code",
   "execution_count": 6,
   "metadata": {},
   "outputs": [
    {
     "data": {
      "text/plain": [
       "{'data': array([[ 0.03807591,  0.05068012,  0.06169621, ..., -0.00259226,\n",
       "          0.01990842, -0.01764613],\n",
       "        [-0.00188202, -0.04464164, -0.05147406, ..., -0.03949338,\n",
       "         -0.06832974, -0.09220405],\n",
       "        [ 0.08529891,  0.05068012,  0.04445121, ..., -0.00259226,\n",
       "          0.00286377, -0.02593034],\n",
       "        ...,\n",
       "        [ 0.04170844,  0.05068012, -0.01590626, ..., -0.01107952,\n",
       "         -0.04687948,  0.01549073],\n",
       "        [-0.04547248, -0.04464164,  0.03906215, ...,  0.02655962,\n",
       "          0.04452837, -0.02593034],\n",
       "        [-0.04547248, -0.04464164, -0.0730303 , ..., -0.03949338,\n",
       "         -0.00421986,  0.00306441]]),\n",
       " 'target': array([151.,  75., 141., 206., 135.,  97., 138.,  63., 110., 310., 101.,\n",
       "         69., 179., 185., 118., 171., 166., 144.,  97., 168.,  68.,  49.,\n",
       "         68., 245., 184., 202., 137.,  85., 131., 283., 129.,  59., 341.,\n",
       "         87.,  65., 102., 265., 276., 252.,  90., 100.,  55.,  61.,  92.,\n",
       "        259.,  53., 190., 142.,  75., 142., 155., 225.,  59., 104., 182.,\n",
       "        128.,  52.,  37., 170., 170.,  61., 144.,  52., 128.,  71., 163.,\n",
       "        150.,  97., 160., 178.,  48., 270., 202., 111.,  85.,  42., 170.,\n",
       "        200., 252., 113., 143.,  51.,  52., 210.,  65., 141.,  55., 134.,\n",
       "         42., 111.,  98., 164.,  48.,  96.,  90., 162., 150., 279.,  92.,\n",
       "         83., 128., 102., 302., 198.,  95.,  53., 134., 144., 232.,  81.,\n",
       "        104.,  59., 246., 297., 258., 229., 275., 281., 179., 200., 200.,\n",
       "        173., 180.,  84., 121., 161.,  99., 109., 115., 268., 274., 158.,\n",
       "        107.,  83., 103., 272.,  85., 280., 336., 281., 118., 317., 235.,\n",
       "         60., 174., 259., 178., 128.,  96., 126., 288.,  88., 292.,  71.,\n",
       "        197., 186.,  25.,  84.,  96., 195.,  53., 217., 172., 131., 214.,\n",
       "         59.,  70., 220., 268., 152.,  47.,  74., 295., 101., 151., 127.,\n",
       "        237., 225.,  81., 151., 107.,  64., 138., 185., 265., 101., 137.,\n",
       "        143., 141.,  79., 292., 178.,  91., 116.,  86., 122.,  72., 129.,\n",
       "        142.,  90., 158.,  39., 196., 222., 277.,  99., 196., 202., 155.,\n",
       "         77., 191.,  70.,  73.,  49.,  65., 263., 248., 296., 214., 185.,\n",
       "         78.,  93., 252., 150.,  77., 208.,  77., 108., 160.,  53., 220.,\n",
       "        154., 259.,  90., 246., 124.,  67.,  72., 257., 262., 275., 177.,\n",
       "         71.,  47., 187., 125.,  78.,  51., 258., 215., 303., 243.,  91.,\n",
       "        150., 310., 153., 346.,  63.,  89.,  50.,  39., 103., 308., 116.,\n",
       "        145.,  74.,  45., 115., 264.,  87., 202., 127., 182., 241.,  66.,\n",
       "         94., 283.,  64., 102., 200., 265.,  94., 230., 181., 156., 233.,\n",
       "         60., 219.,  80.,  68., 332., 248.,  84., 200.,  55.,  85.,  89.,\n",
       "         31., 129.,  83., 275.,  65., 198., 236., 253., 124.,  44., 172.,\n",
       "        114., 142., 109., 180., 144., 163., 147.,  97., 220., 190., 109.,\n",
       "        191., 122., 230., 242., 248., 249., 192., 131., 237.,  78., 135.,\n",
       "        244., 199., 270., 164.,  72.,  96., 306.,  91., 214.,  95., 216.,\n",
       "        263., 178., 113., 200., 139., 139.,  88., 148.,  88., 243.,  71.,\n",
       "         77., 109., 272.,  60.,  54., 221.,  90., 311., 281., 182., 321.,\n",
       "         58., 262., 206., 233., 242., 123., 167.,  63., 197.,  71., 168.,\n",
       "        140., 217., 121., 235., 245.,  40.,  52., 104., 132.,  88.,  69.,\n",
       "        219.,  72., 201., 110.,  51., 277.,  63., 118.,  69., 273., 258.,\n",
       "         43., 198., 242., 232., 175.,  93., 168., 275., 293., 281.,  72.,\n",
       "        140., 189., 181., 209., 136., 261., 113., 131., 174., 257.,  55.,\n",
       "         84.,  42., 146., 212., 233.,  91., 111., 152., 120.,  67., 310.,\n",
       "         94., 183.,  66., 173.,  72.,  49.,  64.,  48., 178., 104., 132.,\n",
       "        220.,  57.]),\n",
       " 'frame': None,\n",
       " 'DESCR': '.. _diabetes_dataset:\\n\\nDiabetes dataset\\n----------------\\n\\nTen baseline variables, age, sex, body mass index, average blood\\npressure, and six blood serum measurements were obtained for each of n =\\n442 diabetes patients, as well as the response of interest, a\\nquantitative measure of disease progression one year after baseline.\\n\\n**Data Set Characteristics:**\\n\\n  :Number of Instances: 442\\n\\n  :Number of Attributes: First 10 columns are numeric predictive values\\n\\n  :Target: Column 11 is a quantitative measure of disease progression one year after baseline\\n\\n  :Attribute Information:\\n      - age     age in years\\n      - sex\\n      - bmi     body mass index\\n      - bp      average blood pressure\\n      - s1      tc, total serum cholesterol\\n      - s2      ldl, low-density lipoproteins\\n      - s3      hdl, high-density lipoproteins\\n      - s4      tch, total cholesterol / HDL\\n      - s5      ltg, possibly log of serum triglycerides level\\n      - s6      glu, blood sugar level\\n\\nNote: Each of these 10 feature variables have been mean centered and scaled by the standard deviation times `n_samples` (i.e. the sum of squares of each column totals 1).\\n\\nSource URL:\\nhttps://www4.stat.ncsu.edu/~boos/var.select/diabetes.html\\n\\nFor more information see:\\nBradley Efron, Trevor Hastie, Iain Johnstone and Robert Tibshirani (2004) \"Least Angle Regression,\" Annals of Statistics (with discussion), 407-499.\\n(https://web.stanford.edu/~hastie/Papers/LARS/LeastAngle_2002.pdf)',\n",
       " 'feature_names': ['age',\n",
       "  'sex',\n",
       "  'bmi',\n",
       "  'bp',\n",
       "  's1',\n",
       "  's2',\n",
       "  's3',\n",
       "  's4',\n",
       "  's5',\n",
       "  's6'],\n",
       " 'data_filename': 'C:\\\\Users\\\\nnama\\\\anaconda3\\\\envs\\\\Deep Learning\\\\lib\\\\site-packages\\\\sklearn\\\\datasets\\\\data\\\\diabetes_data.csv.gz',\n",
       " 'target_filename': 'C:\\\\Users\\\\nnama\\\\anaconda3\\\\envs\\\\Deep Learning\\\\lib\\\\site-packages\\\\sklearn\\\\datasets\\\\data\\\\diabetes_target.csv.gz'}"
      ]
     },
     "execution_count": 6,
     "metadata": {},
     "output_type": "execute_result"
    }
   ],
   "source": [
    "data"
   ]
  },
  {
   "cell_type": "markdown",
   "metadata": {
    "colab_type": "text",
    "id": "xR_yLpR01Kdr"
   },
   "source": [
    "### Prepare input data"
   ]
  },
  {
   "cell_type": "code",
   "execution_count": 7,
   "metadata": {
    "colab": {},
    "colab_type": "code",
    "id": "Sp2mf2bB1Kds"
   },
   "outputs": [
    {
     "name": "stdout",
     "output_type": "stream",
     "text": [
      "X is a  <class 'numpy.ndarray'>\n",
      "X has 442 rows and 10 columns\n",
      "First 10 values in y:  [151.  75. 141. 206. 135.  97. 138.  63. 110. 310.]\n"
     ]
    }
   ],
   "source": [
    "# input\n",
    "X = data.data\n",
    "\n",
    "# print the type of X to check that it is a numpy array\n",
    "print(\"X is a \", type(X))\n",
    "\n",
    "# Print shape to check rows and columns\n",
    "print(\"X has {} rows and {} columns\".format(X.shape[0], X.shape[1]))\n",
    "\n",
    "# Save number of columns as n_cols\n",
    "n_cols = X.shape[1]\n",
    "\n",
    "# output\n",
    "y = data.target\n",
    "\n",
    "print(\"First 10 values in y: \", y[:10])"
   ]
  },
  {
   "cell_type": "code",
   "execution_count": 8,
   "metadata": {},
   "outputs": [
    {
     "data": {
      "text/plain": [
       "442"
      ]
     },
     "execution_count": 8,
     "metadata": {},
     "output_type": "execute_result"
    }
   ],
   "source": [
    "# How many observations are in y?\n",
    "len(y)"
   ]
  },
  {
   "cell_type": "markdown",
   "metadata": {
    "colab_type": "text",
    "id": "j1Vsh6cm1Kdv"
   },
   "source": [
    "### Split the data (training/test)"
   ]
  },
  {
   "cell_type": "code",
   "execution_count": 9,
   "metadata": {
    "colab": {},
    "colab_type": "code",
    "id": "O341llJz1Kdw"
   },
   "outputs": [],
   "source": [
    "X_train, X_test, y_train, y_test = train_test_split(\n",
    "    X, y, \n",
    "    test_size = 0.3,\n",
    "    random_state = 47)"
   ]
  },
  {
   "cell_type": "markdown",
   "metadata": {
    "colab_type": "text",
    "id": "o4dJViJD1Kd0"
   },
   "source": [
    "### Create the model's architecture"
   ]
  },
  {
   "cell_type": "code",
   "execution_count": 11,
   "metadata": {
    "colab": {},
    "colab_type": "code",
    "id": "Tkgf_BLl1Kd1"
   },
   "outputs": [],
   "source": [
    "# Set up the model architecture\n",
    "kr = Sequential()"
   ]
  },
  {
   "cell_type": "code",
   "execution_count": 12,
   "metadata": {},
   "outputs": [],
   "source": [
    "# Add the first hidden layer\n",
    "kr.add(Dense(15, activation = 'relu', input_shape = (n_cols, )))\n",
    "\n",
    "# Add the second hidden layer\n",
    "kr.add(Dense(10, activation = 'relu'))\n",
    "\n",
    "# Add the third hidden layer\n",
    "kr.add(Dense(5, activation = 'relu'))\n",
    "\n",
    "# Add the output layer\n",
    "kr.add(Dense(1, activation = 'linear'))"
   ]
  },
  {
   "cell_type": "code",
   "execution_count": 13,
   "metadata": {},
   "outputs": [
    {
     "name": "stdout",
     "output_type": "stream",
     "text": [
      "Model: \"sequential_1\"\n",
      "_________________________________________________________________\n",
      "Layer (type)                 Output Shape              Param #   \n",
      "=================================================================\n",
      "dense (Dense)                (None, 15)                165       \n",
      "_________________________________________________________________\n",
      "dense_1 (Dense)              (None, 10)                160       \n",
      "_________________________________________________________________\n",
      "dense_2 (Dense)              (None, 5)                 55        \n",
      "_________________________________________________________________\n",
      "dense_3 (Dense)              (None, 1)                 6         \n",
      "=================================================================\n",
      "Total params: 386\n",
      "Trainable params: 386\n",
      "Non-trainable params: 0\n",
      "_________________________________________________________________\n",
      "None\n"
     ]
    }
   ],
   "source": [
    "print(kr.summary())"
   ]
  },
  {
   "cell_type": "markdown",
   "metadata": {
    "colab_type": "text",
    "id": "5hQTS42V1Kd4"
   },
   "source": [
    "### Compile the model"
   ]
  },
  {
   "cell_type": "code",
   "execution_count": 14,
   "metadata": {
    "colab": {},
    "colab_type": "code",
    "id": "BvLsoanF1Kd5"
   },
   "outputs": [],
   "source": [
    "# Compile the model\n",
    "kr.compile(optimizer = 'adam', loss = 'mse', metrics = ['mse'])"
   ]
  },
  {
   "cell_type": "markdown",
   "metadata": {
    "colab_type": "text",
    "id": "6KPQbnEj1Kd7"
   },
   "source": [
    "### Fit the training data"
   ]
  },
  {
   "cell_type": "code",
   "execution_count": 15,
   "metadata": {},
   "outputs": [],
   "source": [
    "# shuffle training data\n",
    "from sklearn.utils import shuffle\n",
    "X_train2, y_train2 = shuffle(X_train, y_train, random_state=42)"
   ]
  },
  {
   "cell_type": "code",
   "execution_count": 27,
   "metadata": {
    "colab": {},
    "colab_type": "code",
    "id": "-oiuHjEj1Kd8",
    "scrolled": true
   },
   "outputs": [
    {
     "name": "stdout",
     "output_type": "stream",
     "text": [
      "Wall time: 5.61 s\n"
     ]
    }
   ],
   "source": [
    "%%time\n",
    "# Fit the model\n",
    "history = kr.fit(\n",
    "    X_train2,\n",
    "    y_train2,\n",
    "    validation_split = 0.25,\n",
    "    batch_size = 10,\n",
    "    epochs = 100,\n",
    "    verbose = 0)"
   ]
  },
  {
   "cell_type": "markdown",
   "metadata": {
    "colab_type": "text",
    "id": "CR-kCu3c1Kd-"
   },
   "source": [
    "### Create predictions"
   ]
  },
  {
   "cell_type": "code",
   "execution_count": 17,
   "metadata": {
    "colab": {},
    "colab_type": "code",
    "id": "wkywKqPg1Kd-"
   },
   "outputs": [],
   "source": [
    "predictions = kr.predict(X_test)"
   ]
  },
  {
   "cell_type": "markdown",
   "metadata": {
    "colab_type": "text",
    "id": "-unEmrGo1KeA"
   },
   "source": [
    "### Evaluate the model"
   ]
  },
  {
   "cell_type": "code",
   "execution_count": 18,
   "metadata": {
    "colab": {},
    "colab_type": "code",
    "id": "QCIVpVrG1KeB"
   },
   "outputs": [
    {
     "name": "stdout",
     "output_type": "stream",
     "text": [
      "5/5 [==============================] - 0s 5ms/step - loss: 3413.6030 - mse: 3413.6030\n",
      "\n",
      "Test loss: 3413.603027\n"
     ]
    }
   ],
   "source": [
    "# Calculate test MSE\n",
    "score = kr.evaluate(X_test, y_test)\n",
    "print('\\nTest loss: %.6f' % score[0])"
   ]
  },
  {
   "cell_type": "code",
   "execution_count": 19,
   "metadata": {},
   "outputs": [
    {
     "data": {
      "text/plain": [
       "[3413.60302734375, 3413.60302734375]"
      ]
     },
     "execution_count": 19,
     "metadata": {},
     "output_type": "execute_result"
    }
   ],
   "source": [
    "score"
   ]
  },
  {
   "cell_type": "code",
   "execution_count": 20,
   "metadata": {},
   "outputs": [
    {
     "data": {
      "text/plain": [
       "58.426047507458094"
      ]
     },
     "execution_count": 20,
     "metadata": {},
     "output_type": "execute_result"
    }
   ],
   "source": [
    "# Find RMSE\n",
    "score[0] ** (1/2)"
   ]
  },
  {
   "cell_type": "code",
   "execution_count": 22,
   "metadata": {},
   "outputs": [
    {
     "name": "stdout",
     "output_type": "stream",
     "text": [
      "y_mean: 152.13348416289594\n",
      "y_std: 77.00574586945044\n",
      "y_minimum: 25.0\n",
      "y_maximum: 346.0\n"
     ]
    }
   ],
   "source": [
    "print(\"y_mean:\", y.mean())\n",
    "print(\"y_std:\", y.std())\n",
    "print(\"y_minimum:\", y.min())\n",
    "print(\"y_maximum:\", y.max())\n"
   ]
  },
  {
   "cell_type": "markdown",
   "metadata": {
    "colab_type": "text",
    "id": "sSlqjs7e1KeD"
   },
   "source": [
    "### Visualisation of cost"
   ]
  },
  {
   "cell_type": "code",
   "execution_count": 23,
   "metadata": {
    "colab": {},
    "colab_type": "code",
    "id": "1F6hYpNh1KeE",
    "scrolled": true
   },
   "outputs": [
    {
     "data": {
      "text/plain": [
       "{'loss': [31684.322265625,\n",
       "  31633.439453125,\n",
       "  31558.94140625,\n",
       "  31446.828125,\n",
       "  31277.892578125,\n",
       "  31036.658203125,\n",
       "  30708.59375,\n",
       "  30271.953125,\n",
       "  29695.43359375,\n",
       "  28966.33203125,\n",
       "  28069.646484375,\n",
       "  26949.560546875,\n",
       "  25600.013671875,\n",
       "  24066.076171875,\n",
       "  22365.4765625,\n",
       "  20509.97265625,\n",
       "  18482.896484375,\n",
       "  16453.28125,\n",
       "  14305.7724609375,\n",
       "  12262.87109375,\n",
       "  10426.80859375,\n",
       "  8786.91796875,\n",
       "  7496.03564453125,\n",
       "  6446.31884765625,\n",
       "  5662.671875,\n",
       "  5080.2470703125,\n",
       "  4719.86474609375,\n",
       "  4528.5341796875,\n",
       "  4359.5185546875,\n",
       "  4257.5498046875,\n",
       "  4204.42529296875,\n",
       "  4162.6044921875,\n",
       "  4129.25634765625,\n",
       "  4096.91796875,\n",
       "  4067.468994140625,\n",
       "  4036.4892578125,\n",
       "  4009.078369140625,\n",
       "  3982.563232421875,\n",
       "  3966.03759765625,\n",
       "  3933.636962890625,\n",
       "  3910.98193359375,\n",
       "  3884.2666015625,\n",
       "  3866.7470703125,\n",
       "  3846.529296875,\n",
       "  3821.64892578125,\n",
       "  3805.24951171875,\n",
       "  3782.964111328125,\n",
       "  3762.90234375,\n",
       "  3747.34326171875,\n",
       "  3725.527587890625,\n",
       "  3716.318359375,\n",
       "  3690.2841796875,\n",
       "  3673.786376953125,\n",
       "  3658.198486328125,\n",
       "  3642.913330078125,\n",
       "  3634.022705078125,\n",
       "  3614.88818359375,\n",
       "  3597.130615234375,\n",
       "  3582.00927734375,\n",
       "  3565.955810546875,\n",
       "  3558.960205078125,\n",
       "  3537.46044921875,\n",
       "  3529.474853515625,\n",
       "  3511.0654296875,\n",
       "  3512.003173828125,\n",
       "  3491.582275390625,\n",
       "  3488.8173828125,\n",
       "  3460.247314453125,\n",
       "  3457.574462890625,\n",
       "  3442.782958984375,\n",
       "  3434.4326171875,\n",
       "  3421.50830078125,\n",
       "  3418.114013671875,\n",
       "  3408.025390625,\n",
       "  3399.220703125,\n",
       "  3397.1904296875,\n",
       "  3382.01513671875,\n",
       "  3382.17724609375,\n",
       "  3361.04833984375,\n",
       "  3354.51611328125,\n",
       "  3347.6005859375,\n",
       "  3341.5810546875,\n",
       "  3332.020263671875,\n",
       "  3325.114013671875,\n",
       "  3316.85546875,\n",
       "  3308.22412109375,\n",
       "  3301.105712890625,\n",
       "  3298.884521484375,\n",
       "  3287.219970703125,\n",
       "  3280.01708984375,\n",
       "  3275.2841796875,\n",
       "  3268.494384765625,\n",
       "  3261.44091796875,\n",
       "  3256.569580078125,\n",
       "  3253.197509765625,\n",
       "  3246.3330078125,\n",
       "  3239.97216796875,\n",
       "  3234.395263671875,\n",
       "  3230.164794921875,\n",
       "  3227.2529296875],\n",
       " 'mse': [31684.322265625,\n",
       "  31633.439453125,\n",
       "  31558.94140625,\n",
       "  31446.828125,\n",
       "  31277.892578125,\n",
       "  31036.66015625,\n",
       "  30708.59375,\n",
       "  30271.953125,\n",
       "  29695.43359375,\n",
       "  28966.33203125,\n",
       "  28069.646484375,\n",
       "  26949.560546875,\n",
       "  25600.013671875,\n",
       "  24066.076171875,\n",
       "  22365.4765625,\n",
       "  20509.97265625,\n",
       "  18482.896484375,\n",
       "  16453.28125,\n",
       "  14305.7724609375,\n",
       "  12262.87109375,\n",
       "  10426.80859375,\n",
       "  8786.91796875,\n",
       "  7496.03564453125,\n",
       "  6446.31884765625,\n",
       "  5662.671875,\n",
       "  5080.2470703125,\n",
       "  4719.86474609375,\n",
       "  4528.5341796875,\n",
       "  4359.5185546875,\n",
       "  4257.5498046875,\n",
       "  4204.42529296875,\n",
       "  4162.6044921875,\n",
       "  4129.25634765625,\n",
       "  4096.91748046875,\n",
       "  4067.468994140625,\n",
       "  4036.4892578125,\n",
       "  4009.078369140625,\n",
       "  3982.563232421875,\n",
       "  3966.03759765625,\n",
       "  3933.636962890625,\n",
       "  3910.98193359375,\n",
       "  3884.2666015625,\n",
       "  3866.7470703125,\n",
       "  3846.529296875,\n",
       "  3821.649169921875,\n",
       "  3805.24951171875,\n",
       "  3782.964111328125,\n",
       "  3762.90234375,\n",
       "  3747.34326171875,\n",
       "  3725.527587890625,\n",
       "  3716.318359375,\n",
       "  3690.2841796875,\n",
       "  3673.786376953125,\n",
       "  3658.198486328125,\n",
       "  3642.913330078125,\n",
       "  3634.022705078125,\n",
       "  3614.88818359375,\n",
       "  3597.130615234375,\n",
       "  3582.00927734375,\n",
       "  3565.955810546875,\n",
       "  3558.960205078125,\n",
       "  3537.46044921875,\n",
       "  3529.474853515625,\n",
       "  3511.0654296875,\n",
       "  3512.003173828125,\n",
       "  3491.582275390625,\n",
       "  3488.8173828125,\n",
       "  3460.24755859375,\n",
       "  3457.574462890625,\n",
       "  3442.782958984375,\n",
       "  3434.4326171875,\n",
       "  3421.50830078125,\n",
       "  3418.114013671875,\n",
       "  3408.025390625,\n",
       "  3399.220703125,\n",
       "  3397.1904296875,\n",
       "  3382.01513671875,\n",
       "  3382.17724609375,\n",
       "  3361.04833984375,\n",
       "  3354.51611328125,\n",
       "  3347.6005859375,\n",
       "  3341.5810546875,\n",
       "  3332.020263671875,\n",
       "  3325.114013671875,\n",
       "  3316.85498046875,\n",
       "  3308.22412109375,\n",
       "  3301.105712890625,\n",
       "  3298.884521484375,\n",
       "  3287.219970703125,\n",
       "  3280.01708984375,\n",
       "  3275.2841796875,\n",
       "  3268.494384765625,\n",
       "  3261.44091796875,\n",
       "  3256.569580078125,\n",
       "  3253.197509765625,\n",
       "  3246.3330078125,\n",
       "  3239.97216796875,\n",
       "  3234.395263671875,\n",
       "  3230.164794921875,\n",
       "  3227.2529296875],\n",
       " 'val_loss': [26477.953125,\n",
       "  26422.3125,\n",
       "  26339.900390625,\n",
       "  26213.83984375,\n",
       "  26034.12109375,\n",
       "  25775.6015625,\n",
       "  25431.64453125,\n",
       "  24983.814453125,\n",
       "  24408.248046875,\n",
       "  23679.96484375,\n",
       "  22772.708984375,\n",
       "  21682.57421875,\n",
       "  20409.30859375,\n",
       "  18959.365234375,\n",
       "  17418.73828125,\n",
       "  15764.3974609375,\n",
       "  13969.2548828125,\n",
       "  12216.4794921875,\n",
       "  10509.6669921875,\n",
       "  8853.4892578125,\n",
       "  7527.27099609375,\n",
       "  6362.54345703125,\n",
       "  5513.46826171875,\n",
       "  4947.59619140625,\n",
       "  4526.8193359375,\n",
       "  4280.97314453125,\n",
       "  4181.88623046875,\n",
       "  4134.81640625,\n",
       "  4134.78759765625,\n",
       "  4128.962890625,\n",
       "  4134.8740234375,\n",
       "  4096.615234375,\n",
       "  4074.552490234375,\n",
       "  4047.6669921875,\n",
       "  4024.701904296875,\n",
       "  4003.237548828125,\n",
       "  3974.8525390625,\n",
       "  3966.82568359375,\n",
       "  3948.202392578125,\n",
       "  3942.384521484375,\n",
       "  3901.33544921875,\n",
       "  3838.97509765625,\n",
       "  3829.857421875,\n",
       "  3789.659423828125,\n",
       "  3776.94677734375,\n",
       "  3749.345458984375,\n",
       "  3734.5048828125,\n",
       "  3722.11865234375,\n",
       "  3715.142578125,\n",
       "  3684.911865234375,\n",
       "  3662.070556640625,\n",
       "  3630.44873046875,\n",
       "  3597.10205078125,\n",
       "  3597.684326171875,\n",
       "  3589.48828125,\n",
       "  3560.44384765625,\n",
       "  3568.98193359375,\n",
       "  3531.03759765625,\n",
       "  3481.3125,\n",
       "  3482.29052734375,\n",
       "  3460.5419921875,\n",
       "  3421.47265625,\n",
       "  3386.60009765625,\n",
       "  3426.539306640625,\n",
       "  3449.39892578125,\n",
       "  3364.19873046875,\n",
       "  3309.398681640625,\n",
       "  3334.65625,\n",
       "  3335.24951171875,\n",
       "  3315.19580078125,\n",
       "  3318.701171875,\n",
       "  3295.45263671875,\n",
       "  3269.588623046875,\n",
       "  3256.571533203125,\n",
       "  3241.302001953125,\n",
       "  3218.207763671875,\n",
       "  3205.5087890625,\n",
       "  3237.784912109375,\n",
       "  3209.449462890625,\n",
       "  3219.9091796875,\n",
       "  3208.597412109375,\n",
       "  3213.411865234375,\n",
       "  3200.031494140625,\n",
       "  3190.818115234375,\n",
       "  3156.523193359375,\n",
       "  3130.79736328125,\n",
       "  3123.019775390625,\n",
       "  3097.46630859375,\n",
       "  3081.844482421875,\n",
       "  3081.765625,\n",
       "  3098.983154296875,\n",
       "  3099.66357421875,\n",
       "  3069.268310546875,\n",
       "  3038.9072265625,\n",
       "  3031.29248046875,\n",
       "  3018.3076171875,\n",
       "  2999.9990234375,\n",
       "  2992.057373046875,\n",
       "  3008.976806640625,\n",
       "  2967.670166015625],\n",
       " 'val_mse': [26477.953125,\n",
       "  26422.3125,\n",
       "  26339.900390625,\n",
       "  26213.83984375,\n",
       "  26034.12109375,\n",
       "  25775.6015625,\n",
       "  25431.64453125,\n",
       "  24983.814453125,\n",
       "  24408.248046875,\n",
       "  23679.96484375,\n",
       "  22772.708984375,\n",
       "  21682.57421875,\n",
       "  20409.30859375,\n",
       "  18959.365234375,\n",
       "  17418.740234375,\n",
       "  15764.3974609375,\n",
       "  13969.2548828125,\n",
       "  12216.4794921875,\n",
       "  10509.6669921875,\n",
       "  8853.4892578125,\n",
       "  7527.27099609375,\n",
       "  6362.54345703125,\n",
       "  5513.46826171875,\n",
       "  4947.59619140625,\n",
       "  4526.8193359375,\n",
       "  4280.97314453125,\n",
       "  4181.88623046875,\n",
       "  4134.81640625,\n",
       "  4134.78759765625,\n",
       "  4128.962890625,\n",
       "  4134.8740234375,\n",
       "  4096.615234375,\n",
       "  4074.552490234375,\n",
       "  4047.6669921875,\n",
       "  4024.701904296875,\n",
       "  4003.237548828125,\n",
       "  3974.8525390625,\n",
       "  3966.82568359375,\n",
       "  3948.202392578125,\n",
       "  3942.384521484375,\n",
       "  3901.33544921875,\n",
       "  3838.97509765625,\n",
       "  3829.857421875,\n",
       "  3789.659423828125,\n",
       "  3776.94677734375,\n",
       "  3749.345458984375,\n",
       "  3734.5048828125,\n",
       "  3722.11865234375,\n",
       "  3715.142578125,\n",
       "  3684.911865234375,\n",
       "  3662.070556640625,\n",
       "  3630.44873046875,\n",
       "  3597.1025390625,\n",
       "  3597.684814453125,\n",
       "  3589.48828125,\n",
       "  3560.44384765625,\n",
       "  3568.98193359375,\n",
       "  3531.03759765625,\n",
       "  3481.3125,\n",
       "  3482.29052734375,\n",
       "  3460.5419921875,\n",
       "  3421.47265625,\n",
       "  3386.60009765625,\n",
       "  3426.539306640625,\n",
       "  3449.39892578125,\n",
       "  3364.19873046875,\n",
       "  3309.398681640625,\n",
       "  3334.65625,\n",
       "  3335.24951171875,\n",
       "  3315.19580078125,\n",
       "  3318.700927734375,\n",
       "  3295.45263671875,\n",
       "  3269.588623046875,\n",
       "  3256.571533203125,\n",
       "  3241.302001953125,\n",
       "  3218.207763671875,\n",
       "  3205.5087890625,\n",
       "  3237.784423828125,\n",
       "  3209.449462890625,\n",
       "  3219.9091796875,\n",
       "  3208.597412109375,\n",
       "  3213.411865234375,\n",
       "  3200.031494140625,\n",
       "  3190.818115234375,\n",
       "  3156.523193359375,\n",
       "  3130.79736328125,\n",
       "  3123.019775390625,\n",
       "  3097.46630859375,\n",
       "  3081.844482421875,\n",
       "  3081.765625,\n",
       "  3098.983154296875,\n",
       "  3099.66357421875,\n",
       "  3069.268310546875,\n",
       "  3038.906982421875,\n",
       "  3031.29248046875,\n",
       "  3018.3076171875,\n",
       "  2999.9990234375,\n",
       "  2992.057373046875,\n",
       "  3008.976806640625,\n",
       "  2967.670166015625]}"
      ]
     },
     "execution_count": 23,
     "metadata": {},
     "output_type": "execute_result"
    }
   ],
   "source": [
    "history.history"
   ]
  },
  {
   "cell_type": "code",
   "execution_count": 24,
   "metadata": {},
   "outputs": [
    {
     "data": {
      "image/png": "[encoded data removed]",
      "text/plain": [
       "<Figure size 1296x432 with 2 Axes>"
      ]
     },
     "metadata": {
      "needs_background": "light"
     },
     "output_type": "display_data"
    }
   ],
   "source": [
    "fig, ax = plt.subplots(1, 2, figsize = (18, 6))\n",
    "fig.subplots_adjust(left = 0.02, right = 0.98, wspace = 0.2)\n",
    "\n",
    "plt.rcParams.update({'font.size': 14})\n",
    "\n",
    "# Plot training & validation accuracy values\n",
    "ax[0].plot(history.history['mse'], label = 'Training')\n",
    "ax[0].plot(history.history['val_mse'], label = 'Validation')\n",
    "ax[0].set_title('Model MSE')\n",
    "ax[0].set_ylabel('MSE')\n",
    "ax[0].set_xlabel('Epoch')\n",
    "ax[0].legend()\n",
    "\n",
    "# Plot training & validation loss values\n",
    "ax[1].plot(history.history['loss'], label = 'Training')\n",
    "ax[1].plot(history.history['val_loss'], label = 'Validation')\n",
    "ax[1].set_title('Model loss')\n",
    "ax[1].set_ylabel('Loss')\n",
    "ax[1].set_xlabel('Epoch')\n",
    "ax[1].legend()\n",
    "\n",
    "plt.show()"
   ]
  },
  {
   "cell_type": "markdown",
   "metadata": {
    "colab_type": "text",
    "id": "vQLzMZTM1KeG"
   },
   "source": [
    "### Visualisation of residuals"
   ]
  },
  {
   "cell_type": "code",
   "execution_count": 25,
   "metadata": {
    "colab": {},
    "colab_type": "code",
    "id": "opIulVSw1KeH"
   },
   "outputs": [],
   "source": [
    "# Calculate R2 and adjusted R2\n",
    "r2 = r2_score(y_test, predictions)\n",
    "n, p = X.shape # sample size, number of explanatory variables\n",
    "adjusted_r2 = 1 - (1 - r2) * ((n - 1) / (n - p - 1))"
   ]
  },
  {
   "cell_type": "code",
   "execution_count": 26,
   "metadata": {},
   "outputs": [
    {
     "data": {
      "image/png": "[encoded data removed]",
      "text/plain": [
       "<Figure size 1080x432 with 1 Axes>"
      ]
     },
     "metadata": {
      "needs_background": "light"
     },
     "output_type": "display_data"
    }
   ],
   "source": [
    "difference = predictions.flatten() - y_test\n",
    "d_mean = difference.mean()\n",
    "d_std = difference.std()\n",
    "n_pred = len(predictions)\n",
    "plt.figure(figsize = (15, 6))\n",
    "plt.scatter(range(n_pred), difference, s = 15)\n",
    "plt.hlines(d_mean + d_std, 0, n_pred, 'r', lw = 1, label = '$\\pm \\: std$')\n",
    "plt.hlines(d_mean, 0, n_pred, label = '$mean$')\n",
    "plt.hlines(d_mean - d_std, 0, n_pred, 'r', lw = 1)\n",
    "plt.xlabel('Prediction')\n",
    "plt.ylabel('$\\hat y - y$')\n",
    "plt.legend()\n",
    "plt.text(0, difference.max() * 0.95,\n",
    "         '$R^2: %.2f, \\: Adjusted \\: R^2: %.2f$' % (r2, adjusted_r2),\n",
    "         fontsize = 12)\n",
    "plt.show()"
   ]
  }
 ],
 "metadata": {
  "colab": {
   "collapsed_sections": [],
   "name": "DSIA Lab-10_1.ipynb",
   "provenance": []
  },
  "kernelspec": {
   "display_name": "Python 3 (ipykernel)",
   "language": "python",
   "name": "python3"
  },
  "language_info": {
   "codemirror_mode": {
    "name": "ipython",
    "version": 3
   },
   "file_extension": ".py",
   "mimetype": "text/x-python",
   "name": "python",
   "nbconvert_exporter": "python",
   "pygments_lexer": "ipython3",
   "version": "3.8.11"
  }
 },
 "nbformat": 4,
 "nbformat_minor": 4
}
