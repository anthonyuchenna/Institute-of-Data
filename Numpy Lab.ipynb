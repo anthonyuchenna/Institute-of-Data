{
 "cells": [
  {
   "cell_type": "markdown",
   "metadata": {
    "id": "iA6gMzOAsIgo"
   },
   "source": [
    "<div>\n",
    "<img src=https://www.institutedata.com/wp-content/uploads/2019/10/iod_h_tp_primary_c.svg width=\"300\">\n",
    "</div>"
   ]
  },
  {
   "cell_type": "markdown",
   "metadata": {
    "id": "6v4X9aDpRxRn"
   },
   "source": [
    "# Numpy Exploration"
   ]
  },
  {
   "cell_type": "code",
   "execution_count": null,
   "metadata": {
    "id": "hefHy7RERxRp"
   },
   "outputs": [],
   "source": [
    "import numpy as np\n",
    "import matplotlib.pyplot as plt\n",
    "import matplotlib\n",
    "\n",
    "# get matplot to show charts inline\n",
    "%matplotlib inline"
   ]
  },
  {
   "cell_type": "code",
   "execution_count": 2,
   "metadata": {
    "id": "hW87a--DRxRu"
   },
   "outputs": [],
   "source": [
    "height= np.round(np.random.normal(1.75, 0.20, 7000), 2)\n",
    "weight= np.round(np.random.normal(60.32, 15, 7000), 2)\n",
    "population=np.column_stack((height, weight))"
   ]
  },
  {
   "cell_type": "code",
   "execution_count": 3,
   "metadata": {
    "colab": {
     "base_uri": "https://localhost:8080/",
     "height": 227
    },
    "executionInfo": {
     "elapsed": 820,
     "status": "ok",
     "timestamp": 1552619080325,
     "user": {
      "displayName": "",
      "photoUrl": "",
      "userId": ""
     },
     "user_tz": -660
    },
    "id": "EmcwT6cDTv3J",
    "outputId": "294c965d-ca92-41f9-95e3-65bfdb7d775f"
   },
   "outputs": [
    {
     "name": "stdout",
     "output_type": "stream",
     "text": [
      "height:\n",
      " [1.68 1.62 1.71 ... 1.57 1.84 1.74]\n",
      "weight:\n",
      " [70.08 45.76 46.28 ... 56.67 60.11 64.59]\n",
      "population:\n",
      " [[ 1.68 70.08]\n",
      " [ 1.62 45.76]\n",
      " [ 1.71 46.28]\n",
      " ...\n",
      " [ 1.57 56.67]\n",
      " [ 1.84 60.11]\n",
      " [ 1.74 64.59]]\n"
     ]
    }
   ],
   "source": [
    "print('height:\\n',height)\n",
    "print('weight:\\n',weight)\n",
    "print('population:\\n',population)"
   ]
  },
  {
   "cell_type": "code",
   "execution_count": 13,
   "metadata": {
    "id": "FXVi-lphTHs2"
   },
   "outputs": [
    {
     "name": "stdout",
     "output_type": "stream",
     "text": [
      "np.ndim(height) : 1\n",
      "np.ndim(weight) : 1\n",
      "np.ndim(population) : 2\n"
     ]
    }
   ],
   "source": [
    " #Dimension of Array\n",
    "import numpy as np\n",
    "print(\"np.ndim(height) : {}\".format(np.ndim(height)))\n",
    "print(\"np.ndim(weight) : {}\" .format(np.ndim(weight)))\n",
    "print(\"np.ndim(population) : {}\" .format(np.ndim(population)))\n",
    "\n",
    "\n",
    "\n",
    "\n",
    "\n"
   ]
  },
  {
   "cell_type": "code",
   "execution_count": 14,
   "metadata": {
    "id": "_TGkqif9T44j"
   },
   "outputs": [
    {
     "name": "stdout",
     "output_type": "stream",
     "text": [
      "np.shape(height) : (7000,)\n",
      "np.shape(weight) : (7000,)\n",
      "np.shape(population) : (7000, 2)\n"
     ]
    }
   ],
   "source": [
    "#Shape of Array\n",
    "\n",
    "print(\"np.shape(height) : {}\" .format(np.shape(height)))\n",
    "print(\"np.shape(weight) : {}\" .format(np.shape(weight)))\n",
    "print(\"np.shape(population) : {}\" .format(np.shape(population)))\n",
    "\n",
    "\n",
    "\n",
    "\n",
    "\n"
   ]
  },
  {
   "cell_type": "code",
   "execution_count": 15,
   "metadata": {
    "id": "I1x7cNp0UIkp"
   },
   "outputs": [
    {
     "name": "stdout",
     "output_type": "stream",
     "text": [
      "np.size(height) : 7000\n",
      "np.size(weight) : 7000\n",
      "np.size(population) : 14000\n"
     ]
    }
   ],
   "source": [
    "#Size of Array\n",
    "\n",
    "print(\"np.size(height) : {}\" .format(np.size(height)))\n",
    "print(\"np.size(weight) : {}\" .format(np.size(weight)))\n",
    "print(\"np.size(population) : {}\" .format(np.size(population)))\n",
    "\n"
   ]
  },
  {
   "cell_type": "code",
   "execution_count": 16,
   "metadata": {
    "id": "v1N4xcurUVCS"
   },
   "outputs": [
    {
     "name": "stdout",
     "output_type": "stream",
     "text": [
      "height.itemsize : 8\n",
      "weight.itemsize : 8\n",
      "population.itemsize : 8\n"
     ]
    }
   ],
   "source": [
    "#Size of Items of Each Array\n",
    "\n",
    "print(\"height.itemsize : {}\" .format(height.itemsize))\n",
    "print(\"weight.itemsize : {}\" .format(weight.itemsize))\n",
    "print(\"population.itemsize : {}\" .format(population.itemsize))\n"
   ]
  },
  {
   "cell_type": "code",
   "execution_count": 19,
   "metadata": {
    "id": "r83X2u4HUteY"
   },
   "outputs": [
    {
     "name": "stdout",
     "output_type": "stream",
     "text": [
      "height.min() : 1.03\n",
      "weight.min() : 3.97\n",
      "population.min() : 1.03\n"
     ]
    }
   ],
   "source": [
    "#Minimum Value of Each Array\n",
    "\n",
    "print(\"height.min() : {}\" .format(np.amin(height)))\n",
    "print(\"weight.min() : {}\" .format(np.amin(weight)))\n",
    "print(\"population.min() : {}\" .format(np.amin(population)))\n",
    "\n",
    "\n",
    "\n"
   ]
  },
  {
   "cell_type": "code",
   "execution_count": 20,
   "metadata": {
    "id": "d7v4phGMVAu0"
   },
   "outputs": [
    {
     "name": "stdout",
     "output_type": "stream",
     "text": [
      "height.max() : 2.43\n",
      "weight.max() : 120.6\n",
      "population.max() : 120.6\n"
     ]
    }
   ],
   "source": [
    "# Maximum Value of Each Array\n",
    "\n",
    "print(\"height.max() : {}\" .format(np.max(height)))\n",
    "print(\"weight.max() : {}\" .format(np.max(weight)))\n",
    "print(\"population.max() : {}\" .format(np.max(population)))\n"
   ]
  },
  {
   "cell_type": "code",
   "execution_count": 21,
   "metadata": {
    "id": "vYPOvoePVa0m"
   },
   "outputs": [
    {
     "name": "stdout",
     "output_type": "stream",
     "text": [
      "height.mean() : 1.7498471428571427\n",
      "weight.mean() : 60.421389999999995\n",
      "population.mean() : 31.08561857142857\n"
     ]
    }
   ],
   "source": [
    "# Mean Value of Each Array\n",
    "\n",
    "print(\"height.mean() : {}\" .format(np.mean(height)))\n",
    "print(\"weight.mean() : {}\" .format(np.mean(weight)))\n",
    "print(\"population.mean() : {}\" .format(np.mean(population)))\n",
    "\n",
    "\n",
    "\n"
   ]
  },
  {
   "cell_type": "code",
   "execution_count": 22,
   "metadata": {
    "id": "Xo7Y5yQPV070"
   },
   "outputs": [
    {
     "name": "stdout",
     "output_type": "stream",
     "text": [
      "height.std() : 0.20118028036097985\n",
      "weight.std() : 14.660121406510052\n",
      "population.std() : 31.113779935726196\n"
     ]
    }
   ],
   "source": [
    "# Standard Deviation of Each Array\n",
    "\n",
    "print(\"height.std() : {}\" .format(np.std(height)))\n",
    "print(\"weight.std() : {}\" .format(np.std(weight)))\n",
    "print(\"population.std() : {}\" .format(np.std(population)))\n"
   ]
  },
  {
   "cell_type": "code",
   "execution_count": 23,
   "metadata": {
    "id": "tOsfNOAbWHGQ"
   },
   "outputs": [
    {
     "name": "stdout",
     "output_type": "stream",
     "text": [
      "height.sum() : 12248.929999999998\n",
      "weight.sum() : 422949.73\n",
      "population.sum() : 435198.66\n"
     ]
    }
   ],
   "source": [
    "# Total value of Each Array\n",
    "\n",
    "print(\"height.sum() : {}\" .format(np.sum(height)))\n",
    "print(\"weight.sum() : {}\".format(np.sum(weight)))\n",
    "print(\"population.sum() : {}\" .format(np.sum(population)))\n",
    "\n"
   ]
  },
  {
   "cell_type": "markdown",
   "metadata": {
    "id": "J11tIVhEWfcI"
   },
   "source": [
    "**8. Create a histogram of height and weight**"
   ]
  },
  {
   "cell_type": "code",
   "execution_count": 33,
   "metadata": {
    "colab": {
     "base_uri": "https://localhost:8080/",
     "height": 3834
    },
    "executionInfo": {
     "elapsed": 871,
     "status": "ok",
     "timestamp": 1552619858866,
     "user": {
      "displayName": "",
      "photoUrl": "",
      "userId": ""
     },
     "user_tz": -660
    },
    "id": "gOsaH1wYWsnl",
    "outputId": "16ff210c-6f29-45de-ddff-ba5cfee755c2"
   },
   "outputs": [
    {
     "data": {
      "image/png": "[encoded data removed]",
      "text/plain": [
       "<Figure size 432x288 with 1 Axes>"
      ]
     },
     "metadata": {
      "needs_background": "light"
     },
     "output_type": "display_data"
    }
   ],
   "source": [
    "import matplotlib.pyplot as plt\n",
    "plt.hist(height)\n",
    "plt.hist(weight)\n",
    "plt.show()"
   ]
  },
  {
   "cell_type": "markdown",
   "metadata": {
    "id": "cfT_iKnKW4K0"
   },
   "source": [
    "**9. Create a boxplot of height and weight**"
   ]
  },
  {
   "cell_type": "code",
   "execution_count": 34,
   "metadata": {
    "colab": {
     "base_uri": "https://localhost:8080/",
     "height": 3222
    },
    "executionInfo": {
     "elapsed": 851,
     "status": "ok",
     "timestamp": 1552620003646,
     "user": {
      "displayName": "",
      "photoUrl": "",
      "userId": ""
     },
     "user_tz": -660
    },
    "id": "PZbswA3fXQSL",
    "outputId": "2256b909-9b78-4e08-bc33-40d5aa2926af"
   },
   "outputs": [
    {
     "data": {
      "image/png": "[encoded data removed]",
      "text/plain": [
       "<Figure size 432x288 with 1 Axes>"
      ]
     },
     "metadata": {
      "needs_background": "light"
     },
     "output_type": "display_data"
    }
   ],
   "source": [
    "plt.boxplot(height)\n",
    "plt.boxplot(weight)\n",
    "plt.show()"
   ]
  },
  {
   "cell_type": "markdown",
   "metadata": {
    "id": "b-6Hr9dSXD2L"
   },
   "source": [
    "**10. Create scatterplot of height and weight**"
   ]
  },
  {
   "cell_type": "code",
   "execution_count": 36,
   "metadata": {
    "colab": {
     "base_uri": "https://localhost:8080/",
     "height": 2029
    },
    "executionInfo": {
     "elapsed": 726,
     "status": "ok",
     "timestamp": 1552620019954,
     "user": {
      "displayName": "",
      "photoUrl": "",
      "userId": ""
     },
     "user_tz": -660
    },
    "id": "S3l7S_qBXUT2",
    "outputId": "1a4753f4-e695-484f-9469-4eb5ff2ceafe"
   },
   "outputs": [
    {
     "data": {
      "image/png": "[encoded data removed]",
      "text/plain": [
       "<Figure size 432x288 with 1 Axes>"
      ]
     },
     "metadata": {
      "needs_background": "light"
     },
     "output_type": "display_data"
    }
   ],
   "source": [
    "plt.scatter(height, weight)\n",
    "plt.show()"
   ]
  },
  {
   "cell_type": "markdown",
   "metadata": {
    "id": "uwAr9EqbpZwg"
   },
   "source": [
    "\n",
    "\n",
    "---\n",
    "\n",
    "\n",
    "\n",
    "---\n",
    "\n",
    "\n",
    "\n",
    "> > > > > > > > > © 2019 Institute of Data\n",
    "\n",
    "\n",
    "---\n",
    "\n",
    "\n",
    "\n",
    "---\n",
    "\n",
    "\n",
    "\n"
   ]
  }
 ],
 "metadata": {
  "colab": {
   "collapsed_sections": [],
   "name": "Lab 1.2.1 Numpy Lab.ipynb",
   "provenance": [
    {
     "file_id": "https://github.com/ikfaisal/dsia/blob/master/Numpy01.ipynb",
     "timestamp": 1552620043198
    }
   ]
  },
  "kernelspec": {
   "display_name": "Python 3",
   "language": "python",
   "name": "python3"
  },
  "language_info": {
   "codemirror_mode": {
    "name": "ipython",
    "version": 3
   },
   "file_extension": ".py",
   "mimetype": "text/x-python",
   "name": "python",
   "nbconvert_exporter": "python",
   "pygments_lexer": "ipython3",
   "version": "3.8.5"
  }
 },
 "nbformat": 4,
 "nbformat_minor": 1
}
