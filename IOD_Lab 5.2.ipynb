{
 "cells": [
  {
   "cell_type": "markdown",
   "metadata": {
    "colab_type": "text",
    "id": "jq8zRd3jTtAb"
   },
   "source": [
    "<div>\n",
    "<img src=https://www.institutedata.com/wp-content/uploads/2019/10/iod_h_tp_primary_c.svg width=\"300\">\n",
    "</div>"
   ]
  },
  {
   "cell_type": "markdown",
   "metadata": {
    "colab_type": "text",
    "id": "ioFn-df0TtAd"
   },
   "source": [
    "# Lab 5.2 \n",
    "# *The Perceptron*"
   ]
  },
  {
   "cell_type": "markdown",
   "metadata": {
    "colab_type": "text",
    "id": "9ZrnRfDnTtAf"
   },
   "source": [
    "The perceptron is the basic unit of a neural network. It learns by adjusting the weights applied to each of its inputs until the error at its output is minimised.\n",
    "\n",
    "The example in this lab uses the stochastic gradient descent (SGD) algorithm to optimise the weights of a perceptron applied to a 2D classification problem."
   ]
  },
  {
   "cell_type": "code",
   "execution_count": 1,
   "metadata": {
    "ExecuteTime": {
     "end_time": "2019-05-08T08:26:36.248424Z",
     "start_time": "2019-05-08T08:26:35.663989Z"
    },
    "colab": {},
    "colab_type": "code",
    "id": "zx6z5_xXTtAi"
   },
   "outputs": [],
   "source": [
    "import numpy as np\n",
    "from matplotlib import pyplot as plt\n",
    "%matplotlib inline"
   ]
  },
  {
   "cell_type": "markdown",
   "metadata": {
    "colab_type": "text",
    "id": "Xr7oFCsUTtAp"
   },
   "source": [
    "The training dataset has 2 numeric features (X is 2D) and a binary response (y = +/-1):"
   ]
  },
  {
   "cell_type": "code",
   "execution_count": 2,
   "metadata": {
    "ExecuteTime": {
     "end_time": "2019-05-08T08:26:38.234462Z",
     "start_time": "2019-05-08T08:26:38.227134Z"
    },
    "colab": {},
    "colab_type": "code",
    "id": "fTGIf8aVTtAr"
   },
   "outputs": [],
   "source": [
    "X = np.array([[-2, 4], [4, 1], [1, 6], [2, 4], [6, 2]])\n",
    "y = np.array([-1, -1, 1, 1, 1])"
   ]
  },
  {
   "cell_type": "markdown",
   "metadata": {
    "colab_type": "text",
    "id": "Mq1AisHdTtAx"
   },
   "source": [
    "Here is the training data, along with a candidate hyperplane that separates the classes:"
   ]
  },
  {
   "cell_type": "code",
   "execution_count": 3,
   "metadata": {
    "ExecuteTime": {
     "end_time": "2019-05-08T08:26:52.008948Z",
     "start_time": "2019-05-08T08:26:51.673659Z"
    },
    "colab": {},
    "colab_type": "code",
    "id": "edayhuvQTtAz",
    "outputId": "1d28804b-995a-468a-da57-1cade7706de5"
   },
   "outputs": [
    {
     "data": {
      "text/plain": [
       "[<matplotlib.lines.Line2D at 0x1e4def3d9a0>]"
      ]
     },
     "execution_count": 3,
     "metadata": {},
     "output_type": "execute_result"
    },
    {
     "data": {
      "image/png": "[encoded data removed]",
      "text/plain": [
       "<Figure size 432x288 with 1 Axes>"
      ]
     },
     "metadata": {
      "needs_background": "light"
     },
     "output_type": "display_data"
    }
   ],
   "source": [
    "def plotData(X):\n",
    "    for d, sample in enumerate(X):\n",
    "        # Plot the negative samples\n",
    "        if d < 2:\n",
    "            plt.scatter(sample[0], sample[1], s = 120, marker = '_', color = 'blue', linewidths = 2)\n",
    "        # Plot the positive samples\n",
    "        else:\n",
    "            plt.scatter(sample[0], sample[1], s = 120, marker = '+', color = 'blue', linewidths = 2)\n",
    "    plt.xlabel('X0')\n",
    "    plt.ylabel('X1')\n",
    "\n",
    "plotData(X)\n",
    "\n",
    "# Print a possible hyperplane, that is separating the two classes:\n",
    "plt.plot([-2, 6], [6, 0.5], color = 'orange', linestyle = 'dashed')"
   ]
  },
  {
   "cell_type": "markdown",
   "metadata": {
    "colab_type": "text",
    "id": "C6cXLNCHTtA4"
   },
   "source": [
    "We need to include a bias term (-1) in the X array. This will transform the decision boundary so that the sign of the dot product of any data point with the weights vector (represented by ⟨x[i], w⟩ in code commments, below) will determine class membership: "
   ]
  },
  {
   "cell_type": "code",
   "execution_count": 4,
   "metadata": {
    "ExecuteTime": {
     "end_time": "2019-05-08T08:27:12.602633Z",
     "start_time": "2019-05-08T08:27:12.597240Z"
    },
    "colab": {},
    "colab_type": "code",
    "id": "kB2nAgFCTtA5"
   },
   "outputs": [],
   "source": [
    "X = np.array([ [-2, 4, -1], [4, 1, -1], [1, 6, -1], [2, 4, -1], [6, 2, -1]])"
   ]
  },
  {
   "cell_type": "markdown",
   "metadata": {
    "colab_type": "text",
    "id": "osAbAN8uTtA9"
   },
   "source": [
    "Here is a simple implementation of the stochastic gradient descent algorithm for computing the weights:"
   ]
  },
  {
   "cell_type": "code",
   "execution_count": 6,
   "metadata": {
    "ExecuteTime": {
     "end_time": "2019-05-08T08:27:19.076619Z",
     "start_time": "2019-05-08T08:27:19.057921Z"
    },
    "colab": {},
    "colab_type": "code",
    "id": "p19kSX3ATtA-"
   },
   "outputs": [],
   "source": [
    "def perceptron_sgd(Xt, Yt, eta = 1, epochs = 20):\n",
    "    \n",
    "    # Initialize the weight vector for the perceptron with zeros:\n",
    "    wt = np.zeros(len(Xt[0]))\n",
    "    \n",
    "    for t in range(epochs):\n",
    "        \n",
    "        # Iterate over each sample in the data set:\n",
    "        for i, x in enumerate(Xt):\n",
    "            \n",
    "            # Test for misclassification: y * ⟨x[i], w⟩ <= 0:\n",
    "            if (np.dot(Xt[i], wt) * Yt[i]) <= 0:\n",
    "                \n",
    "                # Update weights:\n",
    "                wt = wt + eta * Xt[i] * Yt[i]\n",
    "\n",
    "    return wt"
   ]
  },
  {
   "cell_type": "markdown",
   "metadata": {
    "colab_type": "text",
    "id": "k0KLK06CTtBA"
   },
   "source": [
    "Compute the weights using default learning rate (eta = 1) and number of epochs = 10:"
   ]
  },
  {
   "cell_type": "code",
   "execution_count": 7,
   "metadata": {
    "ExecuteTime": {
     "end_time": "2019-05-08T08:27:21.238256Z",
     "start_time": "2019-05-08T08:27:21.230609Z"
    },
    "colab": {},
    "colab_type": "code",
    "id": "hhnp-r5ZTtBB",
    "outputId": "8512beb4-c072-4343-dc08-315a25e3e6ac"
   },
   "outputs": [
    {
     "name": "stdout",
     "output_type": "stream",
     "text": [
      "[3. 4. 9.]\n"
     ]
    }
   ],
   "source": [
    "w = perceptron_sgd(X, y, epochs = 10)\n",
    "print(w)"
   ]
  },
  {
   "cell_type": "markdown",
   "metadata": {
    "colab_type": "text",
    "id": "t-bVPkYmTtBE"
   },
   "source": [
    "Did it work? Let's check the decision boundary (hyperplane) and try some predictions:"
   ]
  },
  {
   "cell_type": "code",
   "execution_count": 8,
   "metadata": {
    "ExecuteTime": {
     "end_time": "2019-05-08T08:27:34.651008Z",
     "start_time": "2019-05-08T08:27:34.377160Z"
    },
    "colab": {},
    "colab_type": "code",
    "id": "r7mGWtPfTtBF",
    "outputId": "465be20b-81bd-4535-d792-c6daa38e0193"
   },
   "outputs": [
    {
     "data": {
      "text/plain": [
       "<matplotlib.collections.PathCollection at 0x1e4df0eabb0>"
      ]
     },
     "execution_count": 8,
     "metadata": {},
     "output_type": "execute_result"
    },
    {
     "data": {
      "image/png": "[encoded data removed]",
      "text/plain": [
       "<Figure size 432x288 with 1 Axes>"
      ]
     },
     "metadata": {
      "needs_background": "light"
     },
     "output_type": "display_data"
    }
   ],
   "source": [
    "def plotHyperplane(wt):\n",
    "\n",
    "    xx = np.linspace(-2,6)\n",
    "    yy = (-wt[0]*xx + wt[2])/wt[1]\n",
    "    plt.plot(xx, yy, color='orange')\n",
    "    \n",
    "plotData(X)\n",
    "plotHyperplane(w)\n",
    "\n",
    "# Test samples:\n",
    "plt.scatter(2, 2, s = 120, marker = '_', linewidths = 2, color = 'red')\n",
    "plt.scatter(4, 3, s = 120, marker = '+', linewidths = 2, color = 'red')    "
   ]
  },
  {
   "cell_type": "markdown",
   "metadata": {
    "colab_type": "text",
    "id": "UP9Ce-hxTtBH"
   },
   "source": [
    "So far, all of the negatively labelled points are misclassified! \n",
    "\n",
    "Let's a look at how the model training actually proceeds. The error at each epoch is calculated using a hinge-loss function:"
   ]
  },
  {
   "cell_type": "code",
   "execution_count": 9,
   "metadata": {
    "ExecuteTime": {
     "end_time": "2019-05-08T08:28:37.761923Z",
     "start_time": "2019-05-08T08:28:37.416555Z"
    },
    "colab": {},
    "colab_type": "code",
    "id": "Nj0rgwdWTtBI",
    "outputId": "c345ed10-9cb0-48b8-a8df-3302f3221bca"
   },
   "outputs": [
    {
     "name": "stdout",
     "output_type": "stream",
     "text": [
      "[3. 4. 9.]\n"
     ]
    },
    {
     "data": {
      "image/png": "[encoded data removed]",
      "text/plain": [
       "<Figure size 432x288 with 1 Axes>"
      ]
     },
     "metadata": {
      "needs_background": "light"
     },
     "output_type": "display_data"
    }
   ],
   "source": [
    "def perceptron_sgd_plot(Xt, Yt, eta = 1, epochs = 10):\n",
    "\n",
    "    wt = np.zeros(len(Xt[0]))\n",
    "    errors = []\n",
    "\n",
    "    for t in range(epochs):\n",
    "        total_error = 0\n",
    "        for i, x in enumerate(Xt):\n",
    "            if (np.dot(Xt[i], wt) * Yt[i]) <= 0:\n",
    "                total_error += (np.dot(Xt[i], wt) * Yt[i])\n",
    "                wt += eta * Xt[i] * Yt[i]\n",
    "        errors.append(total_error * (-1))\n",
    "        \n",
    "    plt.plot(errors)\n",
    "    plt.xlabel('Epoch')\n",
    "    plt.ylabel('Total Loss')\n",
    "    \n",
    "    return wt\n",
    "\n",
    "print(perceptron_sgd_plot(X, y))"
   ]
  },
  {
   "cell_type": "markdown",
   "metadata": {
    "colab_type": "text",
    "id": "KQHKxWwPTtBL"
   },
   "source": [
    "So, 10 epochs clearly wasn't enough for the SGD algorithm to converge. \n",
    "\n",
    "Try a increasing `epochs` until the error goes to zero, then replot the test data and decision boundary:"
   ]
  },
  {
   "cell_type": "code",
   "execution_count": 15,
   "metadata": {
    "colab": {},
    "colab_type": "code",
    "id": "unHdQjgETtBL"
   },
   "outputs": [
    {
     "name": "stdout",
     "output_type": "stream",
     "text": [
      "[ 2.  3. 13.]\n"
     ]
    },
    {
     "data": {
      "image/png": "[encoded data removed]",
      "text/plain": [
       "<Figure size 432x288 with 1 Axes>"
      ]
     },
     "metadata": {
      "needs_background": "light"
     },
     "output_type": "display_data"
    }
   ],
   "source": [
    "#Answer\n",
    "#The error approched zero when the epochs is about 14 as can be seen from the plot below.\n",
    "print(perceptron_sgd_plot(X, y, epochs = 20))"
   ]
  },
  {
   "cell_type": "code",
   "execution_count": 30,
   "metadata": {
    "colab": {},
    "colab_type": "code",
    "id": "gV9DO1-mTtBO"
   },
   "outputs": [
    {
     "name": "stdout",
     "output_type": "stream",
     "text": [
      "[ 2.  3. 13.]\n"
     ]
    },
    {
     "data": {
      "image/png": "[encoded data removed]",
      "text/plain": [
       "<Figure size 432x288 with 1 Axes>"
      ]
     },
     "metadata": {
      "needs_background": "light"
     },
     "output_type": "display_data"
    }
   ],
   "source": [
    "#?\n",
    "plotData(X)\n",
    "w = perceptron_sgd(X, y, epochs = 20)\n",
    "print(w)\n",
    "plotHyperplane(w)\n",
    "\n",
    "# Test samples:\n",
    "plt.scatter(2, 2, s = 120, marker = '_', linewidths = 2, color = 'red')\n",
    "plt.scatter(4, 3, s = 120, marker = '+', linewidths = 2, color = 'red')\n",
    "plt.title('Hyperplane(w)');"
   ]
  },
  {
   "cell_type": "markdown",
   "metadata": {
    "colab_type": "text",
    "id": "Hp-B7PMATtBQ"
   },
   "source": [
    "Show how to manually compute class membership for a new data point Xi = [3.5, 3.3] using just the weights determined above:"
   ]
  },
  {
   "cell_type": "code",
   "execution_count": 31,
   "metadata": {
    "colab": {},
    "colab_type": "code",
    "id": "9AqWg7UDTtBR"
   },
   "outputs": [
    {
     "name": "stdout",
     "output_type": "stream",
     "text": [
      "class \"+\" predicted\n"
     ]
    }
   ],
   "source": [
    "#How to manually compute membership for a new data points\n",
    "def Type(Xi, wt):\n",
    "    Xi.append(-1)\n",
    "    test = np.dot(Xi, wt)\n",
    "    if (test) > 0:\n",
    "        print('class \"+\" predicted')\n",
    "    elif (test) < 0:\n",
    "        print('class \"-\" predicted')\n",
    "    else:\n",
    "        print('edge case: class \"+\" predicted')\n",
    "        \n",
    "Xi = [3.5, 3.3]\n",
    "Type(Xi, w)"
   ]
  },
  {
   "cell_type": "code",
   "execution_count": 32,
   "metadata": {
    "colab": {},
    "colab_type": "code",
    "id": "8J6Os9kSTtBT"
   },
   "outputs": [
    {
     "name": "stdout",
     "output_type": "stream",
     "text": [
      "[-2  4 -1] -5.0\n",
      "[ 4  1 -1] -2.0\n",
      "[ 1  6 -1] 7.0\n",
      "[ 2  4 -1] 3.0\n",
      "[ 6  2 -1] 5.0\n"
     ]
    }
   ],
   "source": [
    "#TEST: make sure the training data get correctly classified:\n",
    "\n",
    "for i, x in enumerate(X):\n",
    "    print(X[i], np.dot(X[i], w))"
   ]
  },
  {
   "cell_type": "markdown",
   "metadata": {
    "colab_type": "text",
    "id": "UnscrVD3TtBU"
   },
   "source": [
    "## === End ==="
   ]
  },
  {
   "cell_type": "markdown",
   "metadata": {
    "colab_type": "text",
    "id": "RERADKgNFq9T"
   },
   "source": [
    "\n",
    "\n",
    "---\n",
    "\n",
    "\n",
    "\n",
    "---\n",
    "\n",
    "\n",
    "\n",
    "> > > > > > > > > © 2021 Institute of Data\n",
    "\n",
    "\n",
    "---\n",
    "\n",
    "\n",
    "\n",
    "---\n",
    "\n",
    "\n",
    "\n"
   ]
  }
 ],
 "metadata": {
  "colab": {
   "collapsed_sections": [],
   "name": "IOD_Lab 5.2.ipynb",
   "provenance": []
  },
  "kernelspec": {
   "display_name": "Python 3",
   "language": "python",
   "name": "python3"
  },
  "language_info": {
   "codemirror_mode": {
    "name": "ipython",
    "version": 3
   },
   "file_extension": ".py",
   "mimetype": "text/x-python",
   "name": "python",
   "nbconvert_exporter": "python",
   "pygments_lexer": "ipython3",
   "version": "3.8.5"
  },
  "varInspector": {
   "cols": {
    "lenName": 16,
    "lenType": 16,
    "lenVar": 40
   },
   "kernels_config": {
    "python": {
     "delete_cmd_postfix": "",
     "delete_cmd_prefix": "del ",
     "library": "var_list.py",
     "varRefreshCmd": "print(var_dic_list())"
    },
    "r": {
     "delete_cmd_postfix": ") ",
     "delete_cmd_prefix": "rm(",
     "library": "var_list.r",
     "varRefreshCmd": "cat(var_dic_list()) "
    }
   },
   "types_to_exclude": [
    "module",
    "function",
    "builtin_function_or_method",
    "instance",
    "_Feature"
   ],
   "window_display": false
  }
 },
 "nbformat": 4,
 "nbformat_minor": 1
}
